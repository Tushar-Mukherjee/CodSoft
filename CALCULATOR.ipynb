{
 "cells": [
  {
   "cell_type": "markdown",
   "metadata": {},
   "source": [
    "1. Calculator"
   ]
  },
  {
   "cell_type": "code",
   "execution_count": null,
   "metadata": {},
   "outputs": [],
   "source": [
    "def add(x, y):\n",
    "    return x + y\n",
    "\n",
    "def subtract(x, y):\n",
    "    return x - y\n",
    "\n",
    "def multiply(x, y):\n",
    "    return x * y\n",
    "\n",
    "def divide(x, y):\n",
    "    if y == 0:\n",
    "        return \"Error! Division by zero.\"\n",
    "    return x / y\n",
    "\n",
    "def calculator():\n",
    "    while True:\n",
    "        print(\"\\nSimple Calculator\")\n",
    "        print(\"a. Addition\")\n",
    "        print(\"b. Subtraction\")\n",
    "        print(\"c. Multiplication\")\n",
    "        print(\"d. Division\")\n",
    "        print(\"e. Exit\")\n",
    "        \n",
    "        choice = input(\"Enter your choice (a-e): \")\n",
    "        \n",
    "        if choice == \"e\":\n",
    "            print(\"Exiting calculator.\")\n",
    "            break\n",
    "        \n",
    "        if choice in (\"a\", \"b\", \"c\", \"d\"):\n",
    "            try:\n",
    "                num1 = float(input(\"Enter first number: \"))\n",
    "                num2 = float(input(\"Enter second number: \"))\n",
    "            except ValueError:\n",
    "                print(\"Invalid input! Please enter numeric values.\")\n",
    "                continue\n",
    "            \n",
    "            if choice == \"a\":\n",
    "                print(f\"Result: {add(num1, num2)}\")\n",
    "            elif choice == \"b\":\n",
    "                print(f\"Result: {subtract(num1, num2)}\")\n",
    "            elif choice == \"c\":\n",
    "                print(f\"Result: {multiply(num1, num2)}\")\n",
    "            elif choice == \"d\":\n",
    "                print(f\"Result: {divide(num1, num2)}\")\n",
    "        else:\n",
    "            print(\"Invalid choice! Please select a valid option.\")\n",
    "\n",
    "if __name__ == \"__main__\":\n",
    "    calculator()\n"
   ]
  }
 ],
 "metadata": {
  "kernelspec": {
   "display_name": "Python 3",
   "language": "python",
   "name": "python3"
  },
  "language_info": {
   "codemirror_mode": {
    "name": "ipython",
    "version": 3
   },
   "file_extension": ".py",
   "mimetype": "text/x-python",
   "name": "python",
   "nbconvert_exporter": "python",
   "pygments_lexer": "ipython3",
   "version": "3.11.9"
  }
 },
 "nbformat": 4,
 "nbformat_minor": 2
}
